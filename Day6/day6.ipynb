{
 "cells": [
  {
   "cell_type": "code",
   "execution_count": 1,
   "metadata": {},
   "outputs": [
    {
     "name": "stdout",
     "output_type": "stream",
     "text": [
      "day 6\n"
     ]
    }
   ],
   "source": [
    "print(\"day 6\")"
   ]
  },
  {
   "cell_type": "code",
   "execution_count": null,
   "metadata": {},
   "outputs": [],
   "source": [
    "#implement Employee managemnt CURD using Linked List\n",
    "#details kept are empid,name,gender,salary\n",
    "#1.add employee\n",
    "#2.Update old data on empid\n",
    "#3.search employee on empid\n",
    "#4.Delete on empid\n",
    "class Node:\n",
    "    def __init__(self,empid,name,gender,salary):\n",
    "        self.empid=empid\n",
    "        self.name=name\n",
    "        self.gender=gender\n",
    "        self.salary=salary\n",
    "        self.next=None\n",
    "class Emp_List:\n",
    "    def createList(self):\n",
    "        self.root=None\n",
    "    def insert(self,empid,name,gender,salary):\n",
    "        n=Node(empid,name,gender,salary)\n",
    "        if self.root==None:\n",
    "            self.root=n#if not there assign n as root\n",
    "        else:\n",
    "            t=self.root#1\n",
    "            while t.next!=None:#2\n",
    "                t=t.next\n",
    "            t.next=n#3\n",
    "        print(\"Data added to list\")\n",
    "\n",
    "    def searchList(self,empid):\n",
    "        if self.root==None:\n",
    "            print(\"List Empty\")\n",
    "        else:\n",
    "            t=self.root#1\n",
    "            while t!=None:#2\n",
    "                if empid==t.empid:\n",
    "                    print(\"Emp_id\\t\\tName\\t\\tGender\\t\\tSalary\")\n",
    "                    print(\"---------------------------------------------------------------\")\n",
    "                    print(t.empid,\"\\t\\t\",t.name,\"\\t\\t\",t.gender,\"\\t\\t\",t.salary)\n",
    "                    print(\"---------------------------------------------------------------\")\n",
    "                    break\n",
    "                t=t.next\n",
    "            else:#only executes if while runs completely\n",
    "                print(\"Not found\")\n",
    "    def updateList(self,empid):\n",
    "        if self.root==None:\n",
    "            print(\"List Empty\")\n",
    "        else:\n",
    "            t=self.root#1\n",
    "            while t!=None:#2\n",
    "                if empid==t.empid:\n",
    "                    u=int(input(\"\\1.Name\\2.Gender\\n3.Salary\"))\n",
    "                    if u==1:\n",
    "                        t.name=input(\"Enter new name:\")\n",
    "                    elif u==2:\n",
    "                        t.gender=input(\"Enter new gender:\")\n",
    "                    elif u==3:\n",
    "                        t.salary=float(input(\"Enter new salary:\"))\n",
    "                t=t.next\n",
    "            else:#only executes if while runs completely\n",
    "                print(\"Not found\")\n",
    "    def deleteList(self,empid):\n",
    "        if self.root==None:\n",
    "            print(\"List Empty\")\n",
    "        else:\n",
    "            t=self.root#1\n",
    "            t2=t\n",
    "            while t!=None:#2\n",
    "                if empid==t.empid:\n",
    "                    print(\"Emp_id\\t\\tName\\t\\tGender\\t\\tSalary\")\n",
    "                    print(\"---------------------------------------------------------------\")\n",
    "                    print(t.empid,\"\\t\\t\",t.name,\"\\t\\t\",t.gender,\"\\t\\t\",t.salary)\n",
    "                    print(\"---------------------------------------------------------------\")\n",
    "                    break\n",
    "                t2=t\n",
    "                t=t.next\n",
    "            if(t!=None):#found somewhere\n",
    "                if t==self.root:#first\n",
    "                    self.root=self.root.next\n",
    "                elif t.next==None:#last\n",
    "                    t2.next=None\n",
    "                else:\n",
    "                    t2.next=t.next\n",
    "                print(\"Deleted:\")\n",
    "            else:\n",
    "                print(\"Not found\")"
   ]
  }
 ],
 "metadata": {
  "kernelspec": {
   "display_name": "Python 3",
   "language": "python",
   "name": "python3"
  },
  "language_info": {
   "codemirror_mode": {
    "name": "ipython",
    "version": 3
   },
   "file_extension": ".py",
   "mimetype": "text/x-python",
   "name": "python",
   "nbconvert_exporter": "python",
   "pygments_lexer": "ipython3",
   "version": "3.10.2"
  }
 },
 "nbformat": 4,
 "nbformat_minor": 2
}
