{
 "cells": [
  {
   "cell_type": "code",
   "execution_count": 3,
   "metadata": {},
   "outputs": [
    {
     "name": "stdout",
     "output_type": "stream",
     "text": [
      "OOPS\n"
     ]
    }
   ],
   "source": [
    "print(\"OOPS\")"
   ]
  },
  {
   "cell_type": "code",
   "execution_count": 5,
   "metadata": {},
   "outputs": [],
   "source": [
    "def hello():\n",
    "    print(\"konichiwa\")"
   ]
  },
  {
   "cell_type": "code",
   "execution_count": 6,
   "metadata": {},
   "outputs": [
    {
     "name": "stdout",
     "output_type": "stream",
     "text": [
      "konichiwa\n"
     ]
    }
   ],
   "source": [
    "hello()"
   ]
  },
  {
   "cell_type": "code",
   "execution_count": 7,
   "metadata": {},
   "outputs": [],
   "source": [
    "def doubler(no):\n",
    "    print(no,\"before making changes\")\n",
    "    no=no*2\n",
    "    print(no,\"after making changes\")"
   ]
  },
  {
   "cell_type": "code",
   "execution_count": 8,
   "metadata": {},
   "outputs": [
    {
     "name": "stdout",
     "output_type": "stream",
     "text": [
      "10 before calling\n",
      "10 before making changes\n",
      "20 after making changes\n",
      "10 after calling\n"
     ]
    }
   ],
   "source": [
    "a = 10\n",
    "print(a,\"before calling\")\n",
    "doubler(a)\n",
    "print(a,\"after calling\")"
   ]
  },
  {
   "cell_type": "code",
   "execution_count": 15,
   "metadata": {},
   "outputs": [],
   "source": [
    "def add(p1,p2):\n",
    "    print(type(p1), type(p2))\n",
    "    print(p1,\"+\",p2,\"=\",(p1+p2))"
   ]
  },
  {
   "cell_type": "code",
   "execution_count": 14,
   "metadata": {},
   "outputs": [
    {
     "name": "stdout",
     "output_type": "stream",
     "text": [
      "<class 'int'> <class 'int'>\n",
      "20 + 30 = 50\n"
     ]
    }
   ],
   "source": [
    "add(20,30)"
   ]
  },
  {
   "cell_type": "code",
   "execution_count": 16,
   "metadata": {},
   "outputs": [
    {
     "name": "stdout",
     "output_type": "stream",
     "text": [
      "<class 'list'> <class 'list'>\n",
      "[10, 20, 40] + [10, 30, 55] = [10, 20, 40, 10, 30, 55]\n"
     ]
    }
   ],
   "source": [
    "add([10,20,40], [10,30, 55])"
   ]
  },
  {
   "cell_type": "markdown",
   "metadata": {},
   "source": [
    "### write a function to return minimum of two passed numbers"
   ]
  },
  {
   "cell_type": "code",
   "execution_count": 19,
   "metadata": {},
   "outputs": [
    {
     "name": "stdout",
     "output_type": "stream",
     "text": [
      "10 is minimum\n"
     ]
    }
   ],
   "source": [
    "def min(a,b):\n",
    "    if a>b:\n",
    "        print(b, \"is minimum\")\n",
    "    else:\n",
    "        print(a,\"is minimum\")        \n",
    "        \n",
    "min(10,20)        "
   ]
  },
  {
   "cell_type": "markdown",
   "metadata": {},
   "source": [
    "### waf sum that will append sum of list at the end of list passed to ladder funtion\n"
   ]
  },
  {
   "cell_type": "code",
   "execution_count": 26,
   "metadata": {},
   "outputs": [
    {
     "name": "stdout",
     "output_type": "stream",
     "text": [
      "[10, 20, 30, 60]\n"
     ]
    }
   ],
   "source": [
    "def add(list):\n",
    "    # sum = 0\n",
    "#     for i in list:\n",
    "#         sum+=i\n",
    "#     a.append(sum)\n",
    "    \n",
    "# a = [10, 20, 30]\n",
    "add(a)\n",
    "print(a)            "
   ]
  },
  {
   "cell_type": "markdown",
   "metadata": {},
   "source": [
    ">write a funtion initial_creator that takes fn,mn,ln\n",
    "returns initials\n",
    "input names\n",
    "return initial letters"
   ]
  },
  {
   "cell_type": "code",
   "execution_count": 25,
   "metadata": {},
   "outputs": [
    {
     "name": "stdout",
     "output_type": "stream",
     "text": [
      "('k', 'g', 't')\n"
     ]
    }
   ],
   "source": [
    "def intial_creator(fn,mn,ln):\n",
    "    return (fn[0], mn[0], ln[0])\n",
    "print(intial_creator(\"kamalika\", \"ghora\", \"ts\"))"
   ]
  },
  {
   "cell_type": "markdown",
   "metadata": {},
   "source": [
    "> find missing element \n",
    "> input list of number with one missing\n",
    "> series 1,2,3,4,5,6,7,8 -> input : 2,3,1,5,7,8,6\n",
    "> return missing 1 number\n",
    "> sum of series = n*(n+1)/2"
   ]
  },
  {
   "cell_type": "markdown",
   "metadata": {},
   "source": [
    "2,3,1,5,7,9,6"
   ]
  },
  {
   "cell_type": "code",
   "execution_count": 53,
   "metadata": {},
   "outputs": [
    {
     "name": "stdout",
     "output_type": "stream",
     "text": [
      "10\n"
     ]
    }
   ],
   "source": [
    "dl = [1,2,3,4,5,6,7,8]\n",
    "def miss(dl):\n",
    "    n = len(dl)+1 # one added as missing\n",
    "    ex_sum =  (n*(n+1)//2)\n",
    "    n = len(dl)\n",
    "    og_sum = (n*(n+1)//2)\n",
    "    return ex_sum-og_sum\n",
    "\n",
    "print(miss([1,2,3,4,5,6,7,8,10]))"
   ]
  },
  {
   "cell_type": "markdown",
   "metadata": {},
   "source": [
    "GCD---LCM\n",
    "use recursion to find GCD and also for LCM using GCD\n",
    "if no 2 perfectly div no1 then gcd is no2\n",
    "otherwise let no2 be no1 and no1%no2 in no2"
   ]
  },
  {
   "cell_type": "code",
   "execution_count": 54,
   "metadata": {},
   "outputs": [
    {
     "name": "stdout",
     "output_type": "stream",
     "text": [
      "5\n",
      "30\n"
     ]
    }
   ],
   "source": [
    "# GCD and # LCM of numbers\n",
    "def gcd(a,b):\n",
    "    if a==0:\n",
    "        return b\n",
    "    return gcd(b%a, a)\n",
    "\n",
    "def lcm(a,b):\n",
    "    return (a*b)//gcd(a,b)\n",
    "\n",
    "print(gcd(10,15))\n",
    "print(lcm(10,15))"
   ]
  },
  {
   "cell_type": "markdown",
   "metadata": {},
   "source": [
    "code power funtion using recursion"
   ]
  },
  {
   "cell_type": "code",
   "execution_count": 58,
   "metadata": {},
   "outputs": [
    {
     "name": "stdout",
     "output_type": "stream",
     "text": [
      "8\n"
     ]
    }
   ],
   "source": [
    "# code power funtion using recursion\n",
    "# input power(2,3) = 8\n",
    "# multiply number for power n times\n",
    "\n",
    "def power(a,b):\n",
    "    if b==0:\n",
    "        return 1\n",
    "    return a*power(a,b-1)\n",
    "print(power(2,3))"
   ]
  },
  {
   "cell_type": "code",
   "execution_count": 56,
   "metadata": {},
   "outputs": [
    {
     "name": "stdout",
     "output_type": "stream",
     "text": [
      "My name is kamalika and I am from kolkata\n"
     ]
    }
   ],
   "source": [
    "def intro(name, native):\n",
    "    print(\"My name is\", name, \"and I am from\", native)\n",
    "    \n",
    "intro(\"kamalika\", \"kolkata\")"
   ]
  },
  {
   "cell_type": "code",
   "execution_count": 60,
   "metadata": {},
   "outputs": [
    {
     "name": "stdout",
     "output_type": "stream",
     "text": [
      "My hobbies are ('singing', 'dancing', 'reading')\n",
      "singing\n",
      "dancing\n",
      "reading\n"
     ]
    }
   ],
   "source": [
    "def hobbies(*hlist):\n",
    "    print(\"My hobbies are\", hlist)\n",
    "    for i in hlist:\n",
    "        print(i)\n",
    "        \n",
    "hobbies(\"singing\", \"dancing\", \"reading\")        "
   ]
  },
  {
   "cell_type": "code",
   "execution_count": 90,
   "metadata": {},
   "outputs": [],
   "source": [
    "# # using parameter send element to function\n",
    "# # return sum, avg, min, max in one pass from funtion\n",
    "# def sum_avg(*nums):\n",
    "#     s = sum(nums)\n",
    "#     avg = s / len(nums)\n",
    "#     mi = min(nums)\n",
    "#     mx = max(nums)\n",
    "#     return s, avg, mi, mx\n",
    "\n",
    "# data = sum_avg(10, 20, 30, 40, 50)\n",
    "# print(\"Sum: \", data[0])\n",
    "\n"
   ]
  },
  {
   "cell_type": "code",
   "execution_count": 91,
   "metadata": {},
   "outputs": [
    {
     "name": "stdout",
     "output_type": "stream",
     "text": [
      "800\n",
      "10.0\n"
     ]
    }
   ],
   "source": [
    "# convertor\n",
    "u2i= lambda u:u*80\n",
    "i2u= lambda i:i/80\n",
    "\n",
    "print(u2i(10))\n",
    "print(i2u(800))"
   ]
  },
  {
   "cell_type": "markdown",
   "metadata": {},
   "source": [
    "def design():\n",
    "\n"
   ]
  }
 ],
 "metadata": {
  "kernelspec": {
   "display_name": "Python 3",
   "language": "python",
   "name": "python3"
  },
  "language_info": {
   "codemirror_mode": {
    "name": "ipython",
    "version": 3
   },
   "file_extension": ".py",
   "mimetype": "text/x-python",
   "name": "python",
   "nbconvert_exporter": "python",
   "pygments_lexer": "ipython3",
   "version": "3.10.2"
  },
  "orig_nbformat": 4
 },
 "nbformat": 4,
 "nbformat_minor": 2
}
