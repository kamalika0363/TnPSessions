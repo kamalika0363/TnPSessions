{
 "cells": [
  {
   "cell_type": "code",
   "execution_count": 2,
   "metadata": {},
   "outputs": [
    {
     "data": {
      "text/plain": [
       "[3, 4, 4, -1]"
      ]
     },
     "execution_count": 2,
     "metadata": {},
     "output_type": "execute_result"
    }
   ],
   "source": [
    "def larger_element(a):\n",
    "    result = []\n",
    "    for i in range(len(a)):\n",
    "        next = -1\n",
    "        for j in range(i+1, len(a)):\n",
    "            if a[j] > a[i]:\n",
    "                next = a[j]\n",
    "                break\n",
    "        result.append(next) \n",
    "    return result       \n",
    "\n",
    "larger_element([1, 3, 2, 4])"
   ]
  },
  {
   "cell_type": "code",
   "execution_count": 12,
   "metadata": {},
   "outputs": [
    {
     "data": {
      "text/plain": [
       "[1, 1, 1, 2, 1, 4, 6]"
      ]
     },
     "execution_count": 12,
     "metadata": {},
     "output_type": "execute_result"
    }
   ],
   "source": [
    "def Stock_span(price):\n",
    "    span = [1]*len(price)\n",
    "    for i in range(1, len(price)):\n",
    "        j = i - 1\n",
    "        while j>=0 and price[i] >= price[j]:\n",
    "            span[i] += 1\n",
    "            j -= 1\n",
    "    return span\n",
    "\n",
    "Stock_span([100, 80, 60, 70, 60, 75, 85])"
   ]
  },
  {
   "cell_type": "code",
   "execution_count": 21,
   "metadata": {},
   "outputs": [
    {
     "data": {
      "text/plain": [
       "True"
      ]
     },
     "execution_count": 21,
     "metadata": {},
     "output_type": "execute_result"
    }
   ],
   "source": [
    "def anagram(s1, s2):\n",
    "    s1 = s1.replace(' ', '').lower()\n",
    "    s2 = s2.replace(' ', '').lower()\n",
    "    return sorted(s1) == sorted(s2)\n",
    "\n",
    "anagram('silent', 'LISten')"
   ]
  },
  {
   "cell_type": "code",
   "execution_count": 29,
   "metadata": {},
   "outputs": [
    {
     "data": {
      "text/plain": [
       "10"
      ]
     },
     "execution_count": 29,
     "metadata": {},
     "output_type": "execute_result"
    }
   ],
   "source": [
    "def LargeSmallSum(arr):\n",
    "    arr.sort()\n",
    "    res = arr[0]+arr[len(arr)-1]\n",
    "    return res\n",
    "LargeSmallSum([1,8,3,9,5])"
   ]
  },
  {
   "cell_type": "code",
   "execution_count": 27,
   "metadata": {},
   "outputs": [
    {
     "data": {
      "text/plain": [
       "6"
      ]
     },
     "execution_count": 27,
     "metadata": {},
     "output_type": "execute_result"
    }
   ],
   "source": [
    "def LargeSmallSum(arr):\n",
    "    res = min(arr) + max(arr)\n",
    "    return res\n",
    "LargeSmallSum([1,2,3,4,5])"
   ]
  },
  {
   "cell_type": "code",
   "execution_count": 59,
   "metadata": {},
   "outputs": [
    {
     "name": "stdout",
     "output_type": "stream",
     "text": [
      "sum: 1 + 3\n",
      "product: 1 X 4\n"
     ]
    }
   ],
   "source": [
    "#find number of pairs from list that add us to a number\n",
    "#and also find number of pairs that product is of number given\n",
    "#input [1,2,3,4]\n",
    "#n= 4\n",
    "#sum:1(1+3)=4\n",
    "#product:1 (4*1):4\n",
    "\n",
    "def sum_n_products(a,n):\n",
    "    a.sort()\n",
    "    countp=counts=0\n",
    "    for i in range(len(a)):\n",
    "        for j in range(i+1,len(a)):\n",
    "            if a[i]*a[j]==n:\n",
    "                print(\"product:\",a[i],\"X\",a[j])\n",
    "                countp+=1\n",
    "            if a[i]+a[j]==n:\n",
    "                print(\"sum:\",a[i],\"+\",a[j])\n",
    "                counts+=1\n",
    "\n",
    "alist=[3,2,1,4,5,8]\n",
    "sum_n_products(alist,4)"
   ]
  },
  {
   "cell_type": "code",
   "execution_count": 62,
   "metadata": {},
   "outputs": [
    {
     "name": "stdout",
     "output_type": "stream",
     "text": [
      "sum: 1 + 3 = 4\n",
      "product: 1 X 4 = 4\n"
     ]
    }
   ],
   "source": [
    "def sum_and_product(a,n):\n",
    "    a.sort()\n",
    "    for i in range(len(a)):\n",
    "        for j in range(i+1, len(a)):\n",
    "            if a[i] + a[j] == n :\n",
    "                print(\"sum:\",a[i],\"+\",a[j],\"=\", n)\n",
    "            if a[i] * a[j] == n :\n",
    "                print(\"product:\",a[i],\"X\",a[j], \"=\", n)     \n",
    "                \n",
    "sum_and_product([1,2,3,4,5],4)                    "
   ]
  },
  {
   "cell_type": "code",
   "execution_count": 58,
   "metadata": {},
   "outputs": [
    {
     "name": "stdout",
     "output_type": "stream",
     "text": [
      "285\n"
     ]
    }
   ],
   "source": [
    "def calculate_difference(m,n):\n",
    "    sum_divisible_by_6 = 0\n",
    "    sum_not_divisible_by_6 = 0\n",
    "\n",
    "    for i in range(1, n+1):\n",
    "        if i % m == 0:\n",
    "            sum_divisible_by_6 += i\n",
    "        else:\n",
    "            sum_not_divisible_by_6 += i\n",
    "\n",
    "    return sum_not_divisible_by_6 - sum_divisible_by_6\n",
    "\n",
    "n = 30\n",
    "m = 6\n",
    "print(calculate_difference(m,n)) \n"
   ]
  },
  {
   "cell_type": "code",
   "execution_count": null,
   "metadata": {},
   "outputs": [],
   "source": []
  }
 ],
 "metadata": {
  "kernelspec": {
   "display_name": "Python 3",
   "language": "python",
   "name": "python3"
  },
  "language_info": {
   "codemirror_mode": {
    "name": "ipython",
    "version": 3
   },
   "file_extension": ".py",
   "mimetype": "text/x-python",
   "name": "python",
   "nbconvert_exporter": "python",
   "pygments_lexer": "ipython3",
   "version": "3.10.2"
  }
 },
 "nbformat": 4,
 "nbformat_minor": 2
}
