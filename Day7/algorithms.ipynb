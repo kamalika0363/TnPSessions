{
 "cells": [
  {
   "cell_type": "code",
   "execution_count": 10,
   "metadata": {},
   "outputs": [],
   "source": [
    "def bigoh(n): # 1\n",
    "    sum = 0    # 1\n",
    "    for i in range(1,n+1): # n+1\n",
    "        sum += (i*i) # n\n",
    "        print(sum) # 1\n",
    "        \n",
    "        # O(2n+4) = O(2n) + O(4) = O(n)\n"
   ]
  },
  {
   "cell_type": "code",
   "execution_count": 29,
   "metadata": {},
   "outputs": [
    {
     "name": "stdout",
     "output_type": "stream",
     "text": [
      "key found 6 at index 3\n"
     ]
    }
   ],
   "source": [
    "\n",
    "def linearSearch(array, key):\n",
    "    for i in range(len(array)):\n",
    "        if key == array[i]:\n",
    "            return i\n",
    "    return (-1)\n",
    "array = [7, 9, 8, 6, 5, 2]    \n",
    "key = 6\n",
    "result = linearSearch(array, key)\n",
    "if result == -1:\n",
    "    print(\"Element not found\")\n",
    "else:\n",
    "    print(\"key found\", key, \"at index\", result)    "
   ]
  },
  {
   "cell_type": "markdown",
   "metadata": {},
   "source": [
    "# Binary Search\n",
    "1. works only on sorted array \n",
    "2. uses divide and conquer approach\n",
    "3. searches from mid -> (start + end) / 2\n",
    "4. if mid == target, return mid\n",
    "5. if mid > target, search in left half \n",
    "6. else search in right half"
   ]
  },
  {
   "cell_type": "markdown",
   "metadata": {},
   "source": [
    "BinarySearch(array, start, end, key)\n",
    "check if start and end has not crossed\n",
    "if so cal mid=(start+end)/2\n",
    "if key is at mid, return mid\n",
    "else \n",
    "    if key < mid, search in left half\n",
    "    else search in right half \n",
    "        BinarySearch(array, start, mid-1, key)\n",
    "    else\n",
    "        BinarySearch(array, mid+1, end, key)\n",
    "if start has crossed end, return -1         "
   ]
  },
  {
   "cell_type": "code",
   "execution_count": 46,
   "metadata": {},
   "outputs": [
    {
     "name": "stdout",
     "output_type": "stream",
     "text": [
      "key found 5 at index 1\n"
     ]
    }
   ],
   "source": [
    "def BinarySearch(array, start, end, key):\n",
    "    if start <= end:\n",
    "        mid = (start + end) // 2\n",
    "        if key == array[mid]:\n",
    "            return mid\n",
    "        else:\n",
    "            if key < array[mid]:\n",
    "                return BinarySearch(array, start, mid - 1, key)\n",
    "            else:\n",
    "                return BinarySearch(array, mid + 1, end, key)\n",
    "    return -1\n",
    "\n",
    "array = [7, 9, 8, 6, 5, 2]\n",
    "arraybs = sorted(array)\n",
    "key = 5\n",
    "result = BinarySearch(arraybs, 0, len(array)-1, key)\n",
    "if result == -1:\n",
    "    print(\"Element not found\")\n",
    "else:\n",
    "    print(\"key found\", key, \"at index\", result)"
   ]
  },
  {
   "cell_type": "markdown",
   "metadata": {},
   "source": [
    "# Greedy Algorithm\n",
    "1. works on optimization problems\n",
    "2. makes the best choice at each step\n",
    "3. never reconsiders the choices made\n",
    "4. may or may not be optimal\n",
    "5. used for problems like knapsack, job scheduling, etc.\n",
    "6. used to find the minimum spanning tree in a graph\n",
    "7. used to find the shortest path in a graph\n",
    "8. used to find the most efficient way to traverse a graph"
   ]
  }
 ],
 "metadata": {
  "kernelspec": {
   "display_name": "Python 3",
   "language": "python",
   "name": "python3"
  },
  "language_info": {
   "codemirror_mode": {
    "name": "ipython",
    "version": 3
   },
   "file_extension": ".py",
   "mimetype": "text/x-python",
   "name": "python",
   "nbconvert_exporter": "python",
   "pygments_lexer": "ipython3",
   "version": "3.10.2"
  }
 },
 "nbformat": 4,
 "nbformat_minor": 2
}
