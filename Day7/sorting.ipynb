{
 "cells": [
  {
   "cell_type": "markdown",
   "metadata": {},
   "source": [
    "# Sorting\n",
    "1. arrange data in order(default is min to max)\n",
    "2. comparision (what is compared to what?)\n",
    "3. why is it xyz sort?\n",
    "4. complexity in each case"
   ]
  },
  {
   "cell_type": "markdown",
   "metadata": {},
   "source": [
    "# Bubble Sort\n",
    "1. neighbours are compared for sort\n",
    "2. logical : heaviest element is bubbled on top in each pass\n"
   ]
  },
  {
   "cell_type": "markdown",
   "metadata": {},
   "source": [
    "BubbleSort(array){\n",
    "    for loop for n-1 passes:\n",
    "        for loop for j to n-2 elements:\n",
    "            compare array[j] with array[j+1]\n",
    "                if needed swap\n",
    "}"
   ]
  },
  {
   "cell_type": "code",
   "execution_count": 3,
   "metadata": {},
   "outputs": [
    {
     "data": {
      "text/plain": [
       "[1, 3, 4, 5, 6, 7, 8, 9]"
      ]
     },
     "execution_count": 3,
     "metadata": {},
     "output_type": "execute_result"
    }
   ],
   "source": [
    "def bubbleSort(array):\n",
    "    for i in range(len(array)):\n",
    "        for j in range(len(array)-1):\n",
    "            if array[j] > array[j+1]:\n",
    "                array[j],array[j+1] = array[j+1],array[j]\n",
    "    return array\n",
    "\n",
    "bubbleSort([8,9,3,7,6,5,4,1])\n",
    "                "
   ]
  },
  {
   "cell_type": "markdown",
   "metadata": {},
   "source": [
    "# Selection Sort\n",
    "1. all are compared to search minimum\n",
    "2. logic : in each pass we will select minimum element and then place it at ith location for ith path"
   ]
  },
  {
   "cell_type": "markdown",
   "metadata": {},
   "source": [
    "selectionSort(array){\n",
    "    for i to go from 0ht to n-1 passes\n",
    "        create ref of min with a[i] and position as i\n",
    "            for j going from i+1 to n-1\n",
    "                search for smallest \n",
    "                    update position and min\n",
    "            swap a[i] with a[pos]                    \n",
    "}"
   ]
  },
  {
   "cell_type": "code",
   "execution_count": 6,
   "metadata": {},
   "outputs": [],
   "source": [
    "def selectionSort(array):\n",
    "    for i in range (0, len(array)-1):\n",
    "        min = [i]\n",
    "        pos = i\n",
    "        for j in range(i+1,len(array)):            \n",
    "            if array[j] < min:\n",
    "                min=array[j]\n",
    "                pos=j\n",
    "        array[i],array[pos]=array[pos],array[i]        "
   ]
  },
  {
   "cell_type": "markdown",
   "metadata": {},
   "source": [
    "# Insertion Sort\n",
    "1. unsorted element compared to sorted and placed properly\n",
    "2. logic: in this array is divided in 2 parts -> sorted and unsorted\n",
    "3. in each pass an element from unsorted at correct location in sorted part"
   ]
  },
  {
   "cell_type": "markdown",
   "metadata": {},
   "source": [
    "insertionSort(a)\n",
    "    for i go from start to end-1\n",
    "        select next new element(i+1)\n",
    "            till j>0 and new element needs shift\n",
    "                move data from j-1 to j\n",
    "                and j-1\n",
    "        copy new element at j                "
   ]
  },
  {
   "cell_type": "code",
   "execution_count": 6,
   "metadata": {},
   "outputs": [
    {
     "data": {
      "text/plain": [
       "[5, 6, 8, 9, 50, 59, 66]"
      ]
     },
     "execution_count": 6,
     "metadata": {},
     "output_type": "execute_result"
    }
   ],
   "source": [
    "def insertionSort(a):\n",
    "    for i in range(0, len(a)-1):\n",
    "        new_element = a[i+1]\n",
    "        j=i+1\n",
    "        while j>0 and a[j-1]>new_element:\n",
    "            a[j]=a[j-1]\n",
    "            j=j-1\n",
    "        a[j]=new_element    \n",
    "    return a    \n",
    "        \n",
    "insertionSort([5,9,6,66,8,59,50])        \n",
    "            "
   ]
  },
  {
   "cell_type": "markdown",
   "metadata": {},
   "source": [
    "# Quick Sort\n",
    "1. works on pivot\n",
    "2. pivot is ref that can be 1st, last, mid\n",
    "3. after taking pivot as red re arrange everything w.r.t pivot such that all elements before pivot element<pivot\n",
    "4. all element after pivot, pivot<element"
   ]
  },
  {
   "cell_type": "markdown",
   "metadata": {},
   "source": [
    "# Merge Sort\n",
    "1. divide and conquer\n",
    "2. divide array in 2 parts\n",
    "3. sort each part\n",
    "4. merge both parts\n",
    "5. mid = (start+end)/2"
   ]
  },
  {
   "cell_type": "markdown",
   "metadata": {},
   "source": [
    "def MergeSort(a,s,e)\n",
    "    if s<=e:\n",
    "        mid=(s+e)/2\n",
    "        MergeSort(a,s,mid)\n",
    "        MergeSort(a,mid+1,e)\n",
    "        Merge(a,s,mid,e);\n",
    "            Merger()"
   ]
  },
  {
   "cell_type": "code",
   "execution_count": 1,
   "metadata": {},
   "outputs": [],
   "source": [
    "def Merger(a,start,mid,end):\n",
    "    i=start\n",
    "    j=mid+1\n",
    "    temp=[0]\n",
    "    temp=temp*len(a)\n",
    "    tindex=start\n",
    "    while i<=mid and j<=end:\n",
    "        if a[i]<a[j]:\n",
    "            temp[tindex]=a[i]\n",
    "            i+=1\n",
    "            tindex+=1\n",
    "        else:\n",
    "            temp[tindex]=a[j]\n",
    "            j+=1\n",
    "            tindex+=1\n",
    "    while i<=mid:\n",
    "        temp[tindex]=a[i]\n",
    "        i+=1\n",
    "        tindex+=1\n",
    "    while j<=end:\n",
    "        temp[tindex]=a[j]\n",
    "        j+=1\n",
    "        tindex+=1\n",
    "    for i in range(start,end+1):\n",
    "        a[i]=temp[i]\n",
    "\n",
    "def MergeSort(a,start,end):\n",
    "    if start<end:\n",
    "        mid=(start+end)//2\n",
    "        MergeSort(a,start,mid)\n",
    "        MergeSort(a,mid+1,end)\n",
    "        Merger(a,start,mid,end)"
   ]
  },
  {
   "cell_type": "code",
   "execution_count": 2,
   "metadata": {},
   "outputs": [
    {
     "name": "stdout",
     "output_type": "stream",
     "text": [
      "Before: [22, 11, 55, 33, 77, 44, 1]\n",
      "After: [1, 11, 22, 33, 44, 55, 77]\n"
     ]
    }
   ],
   "source": [
    "a=[22,11,55,33,77,44,1]\n",
    "print(\"Before:\",a)\n",
    "MergeSort(a,0,len(a)-1)\n",
    "print(\"After:\",a)"
   ]
  }
 ],
 "metadata": {
  "kernelspec": {
   "display_name": "Python 3",
   "language": "python",
   "name": "python3"
  },
  "language_info": {
   "codemirror_mode": {
    "name": "ipython",
    "version": 3
   },
   "file_extension": ".py",
   "mimetype": "text/x-python",
   "name": "python",
   "nbconvert_exporter": "python",
   "pygments_lexer": "ipython3",
   "version": "3.10.2"
  }
 },
 "nbformat": 4,
 "nbformat_minor": 2
}
